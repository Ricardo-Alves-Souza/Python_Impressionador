{
  "cells": [
    {
      "cell_type": "markdown",
      "metadata": {
        "id": "tHl07NdpWJAb"
      },
      "source": [
        "# List Comprehension não serve só para criar uma lista, serve para qualquer ação em iterable\n",
        "\n",
        "### Exemplo:"
      ]
    },
    {
      "cell_type": "markdown",
      "metadata": {
        "id": "Fa1E0kMiWJAf"
      },
      "source": [
        "- Vamos calcular quantos % das vendas o meu top 5 produtos representa das vendas totais"
      ]
    },
    {
      "cell_type": "code",
      "execution_count": 1,
      "metadata": {
        "id": "-ai_OGj2WJAg"
      },
      "outputs": [],
      "source": [
        "produtos = ['coca', 'pepsi', 'guarana', 'skol', 'brahma', 'agua', 'del valle', 'dolly', 'red bull', 'cachaça', 'vinho tinto', 'vodka', 'vinho branco', 'tequila', 'champagne', 'gin', 'guaracamp', 'matte', 'leite de castanha', 'leite', 'jurupinga', 'sprite', 'fanta']\n",
        "vendas = [1200, 300, 800, 1500, 1900, 2750, 400, 20, 23, 70, 90, 80, 1100, 999, 900, 880, 870, 50, 1111, 120, 300, 450, 800]\n",
        "top5 = ['agua', 'brahma', 'skol', 'coca', 'leite de castanha']"
      ]
    },
    {
      "cell_type": "markdown",
      "metadata": {
        "id": "l5Lj4NdmWJAi"
      },
      "source": [
        "- Fazendo por for"
      ]
    },
    {
      "cell_type": "code",
      "execution_count": 2,
      "metadata": {
        "colab": {
          "base_uri": "https://localhost:8080/"
        },
        "id": "qgtTtGtBWJAj",
        "outputId": "17de5648-0496-4f85-f197-396c7e7d682e"
      },
      "outputs": [
        {
          "name": "stdout",
          "output_type": "stream",
          "text": [
            "8461\n",
            "Top 5 representou 50.6% das vendas\n"
          ]
        }
      ],
      "source": [
        "total_top5 = 0\n",
        "for i, produto in enumerate(produtos):\n",
        "  if produto in top5:\n",
        "    total_top5 += vendas[i]\n",
        "\n",
        "print(total_top5)\n",
        "print('Top 5 representou {:0.1%} das vendas'.format(total_top5/sum(vendas)))"
      ]
    },
    {
      "cell_type": "markdown",
      "metadata": {
        "id": "13TYyB_NWJAj"
      },
      "source": [
        "- Fazendo por list comprehension"
      ]
    },
    {
      "cell_type": "code",
      "execution_count": 3,
      "metadata": {
        "colab": {
          "base_uri": "https://localhost:8080/"
        },
        "id": "-o0l_08FWJAk",
        "outputId": "94ab7c1f-a7f1-4184-c513-6d9418c982e8"
      },
      "outputs": [
        {
          "name": "stdout",
          "output_type": "stream",
          "text": [
            "8461\n",
            "Top 5 representou 50.6% das vendas\n"
          ]
        }
      ],
      "source": [
        "total_top5 = sum([vendas[i] for i, produto in enumerate(produtos) if produto in top5])\n",
        "\n",
        "print(total_top5)\n",
        "print('Top 5 representou {:0.1%} das vendas'.format(total_top5/sum(vendas)))"
      ]
    }
  ],
  "metadata": {
    "colab": {
      "provenance": []
    },
    "kernelspec": {
      "display_name": "Python 3",
      "language": "python",
      "name": "python3"
    },
    "language_info": {
      "codemirror_mode": {
        "name": "ipython",
        "version": 3
      },
      "file_extension": ".py",
      "mimetype": "text/x-python",
      "name": "python",
      "nbconvert_exporter": "python",
      "pygments_lexer": "ipython3",
      "version": "3.12.0"
    }
  },
  "nbformat": 4,
  "nbformat_minor": 0
}
