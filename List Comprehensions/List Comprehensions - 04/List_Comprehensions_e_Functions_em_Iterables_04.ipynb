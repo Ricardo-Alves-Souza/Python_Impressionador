{
  "cells": [
    {
      "cell_type": "markdown",
      "metadata": {
        "id": "O-WA3VWAFNnc"
      },
      "source": [
        "# List Comprehensions com if para \"filtrar\" itens\n",
        "\n",
        "### Estrutura:"
      ]
    },
    {
      "cell_type": "raw",
      "metadata": {
        "id": "HHpjY8l4FNnj"
      },
      "source": [
        "lista = [expressão for item in iterable if condicao]"
      ]
    },
    {
      "cell_type": "markdown",
      "metadata": {
        "id": "aKr2c0FsFNnk"
      },
      "source": [
        "- Digamos que eu queira criar uma lista de produtos que bateram a meta."
      ]
    },
    {
      "cell_type": "code",
      "execution_count": 1,
      "metadata": {
        "id": "kss_5iF0FNnl"
      },
      "outputs": [],
      "source": [
        "meta = 1000\n",
        "vendas_produtos = [1500, 150, 2100, 1950]\n",
        "produtos = ['vinho', 'cafeiteira', 'microondas', 'iphone']"
      ]
    },
    {
      "cell_type": "markdown",
      "metadata": {
        "id": "b-HHi1GZFNno"
      },
      "source": [
        "Fazendo por For tradicional"
      ]
    },
    {
      "cell_type": "code",
      "execution_count": 18,
      "metadata": {
        "colab": {
          "base_uri": "https://localhost:8080/"
        },
        "id": "Eu_EJbrkFNnp",
        "outputId": "cb2ae00c-8c46-4d1f-8f79-87414a815ac2"
      },
      "outputs": [
        {
          "name": "stdout",
          "output_type": "stream",
          "text": [
            "['vinho', 'microondas', 'iphone']\n"
          ]
        }
      ],
      "source": [
        "lista_produtos = list(zip(vendas_produtos, produtos))\n",
        "\n",
        "lista_bateu_meta = []\n",
        "\n",
        "for valor, produto in lista_produtos:\n",
        "    if valor >= meta:\n",
        "        lista_bateu_meta.append(produto)\n",
        "\n",
        "print(lista_bateu_meta)"
      ]
    },
    {
      "cell_type": "markdown",
      "metadata": {
        "id": "WFhc_U8LFNnp"
      },
      "source": [
        "Fazendo por list comprehension"
      ]
    },
    {
      "cell_type": "code",
      "execution_count": 22,
      "metadata": {
        "colab": {
          "base_uri": "https://localhost:8080/"
        },
        "id": "WCMVgBOUFNnq",
        "outputId": "75a53099-3ff8-45e1-a974-d77a7e448e97"
      },
      "outputs": [
        {
          "name": "stdout",
          "output_type": "stream",
          "text": [
            "['vinho', 'microondas', 'iphone']\n"
          ]
        }
      ],
      "source": [
        "lista_produtos = list(zip(vendas_produtos, produtos))\n",
        "\n",
        "lista_bateu_meta = [produto for valor, produto in lista_produtos if valor >= meta]\n",
        "print(lista_bateu_meta)"
      ]
    }
  ],
  "metadata": {
    "colab": {
      "provenance": []
    },
    "kernelspec": {
      "display_name": "Python 3",
      "language": "python",
      "name": "python3"
    },
    "language_info": {
      "codemirror_mode": {
        "name": "ipython",
        "version": 3
      },
      "file_extension": ".py",
      "mimetype": "text/x-python",
      "name": "python",
      "nbconvert_exporter": "python",
      "pygments_lexer": "ipython3",
      "version": "3.12.0"
    }
  },
  "nbformat": 4,
  "nbformat_minor": 0
}
