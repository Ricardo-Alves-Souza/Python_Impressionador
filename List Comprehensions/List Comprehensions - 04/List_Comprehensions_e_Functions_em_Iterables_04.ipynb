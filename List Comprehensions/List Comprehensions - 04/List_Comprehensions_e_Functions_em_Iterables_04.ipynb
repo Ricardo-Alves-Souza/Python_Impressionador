{
  "cells": [
    {
      "cell_type": "markdown",
      "metadata": {
        "id": "O-WA3VWAFNnc"
      },
      "source": [
        "# List Comprehensions com if para \"filtrar\" itens\n",
        "\n",
        "### Estrutura:"
      ]
    },
    {
      "cell_type": "raw",
      "metadata": {
        "id": "HHpjY8l4FNnj"
      },
      "source": [
        "lista = [expressão for item in iterable if condicao]"
      ]
    },
    {
      "cell_type": "markdown",
      "metadata": {
        "id": "aKr2c0FsFNnk"
      },
      "source": [
        "- Digamos que eu queira criar uma lista de produtos que bateram a meta."
      ]
    },
    {
      "cell_type": "code",
      "execution_count": null,
      "metadata": {
        "id": "kss_5iF0FNnl"
      },
      "outputs": [],
      "source": [
        "meta = 1000\n",
        "vendas_produtos = [1500, 150, 2100, 1950]\n",
        "produtos = ['vinho', 'cafeiteira', 'microondas', 'iphone']"
      ]
    },
    {
      "cell_type": "markdown",
      "metadata": {
        "id": "b-HHi1GZFNno"
      },
      "source": [
        "Fazendo por For tradicional"
      ]
    },
    {
      "cell_type": "code",
      "execution_count": null,
      "metadata": {
        "colab": {
          "base_uri": "https://localhost:8080/"
        },
        "id": "Eu_EJbrkFNnp",
        "outputId": "cb2ae00c-8c46-4d1f-8f79-87414a815ac2"
      },
      "outputs": [
        {
          "output_type": "stream",
          "name": "stdout",
          "text": [
            "[('vinho', 1500), ('microondas', 2100), ('iphone', 1950)]\n"
          ]
        }
      ],
      "source": [
        "vendas = list(zip(vendas_produtos, produtos))\n",
        "\n",
        "bateu_meta = []\n",
        "for venda, produto in vendas:\n",
        "  if venda >= meta:\n",
        "    bateu_meta.append((produto, venda))\n",
        "\n",
        "print(bateu_meta)\n"
      ]
    },
    {
      "cell_type": "markdown",
      "metadata": {
        "id": "WFhc_U8LFNnp"
      },
      "source": [
        "Fazendo por list comprehension"
      ]
    },
    {
      "cell_type": "code",
      "execution_count": null,
      "metadata": {
        "colab": {
          "base_uri": "https://localhost:8080/"
        },
        "id": "WCMVgBOUFNnq",
        "outputId": "75a53099-3ff8-45e1-a974-d77a7e448e97"
      },
      "outputs": [
        {
          "output_type": "stream",
          "name": "stdout",
          "text": [
            "[('vinho', 1500), ('microondas', 2100), ('iphone', 1950)]\n"
          ]
        }
      ],
      "source": [
        "vendas = list(zip(vendas_produtos, produtos))\n",
        "\n",
        "bateu_meta = [(produto, venda) for venda, produto in vendas if venda >= meta]\n",
        "\n",
        "print(bateu_meta)"
      ]
    }
  ],
  "metadata": {
    "kernelspec": {
      "display_name": "Python 3",
      "language": "python",
      "name": "python3"
    },
    "language_info": {
      "codemirror_mode": {
        "name": "ipython",
        "version": 3
      },
      "file_extension": ".py",
      "mimetype": "text/x-python",
      "name": "python",
      "nbconvert_exporter": "python",
      "pygments_lexer": "ipython3",
      "version": "3.8.3"
    },
    "colab": {
      "provenance": []
    }
  },
  "nbformat": 4,
  "nbformat_minor": 0
}