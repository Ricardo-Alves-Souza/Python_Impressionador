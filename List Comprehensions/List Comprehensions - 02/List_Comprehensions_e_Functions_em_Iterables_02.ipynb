{
  "cells": [
    {
      "cell_type": "markdown",
      "metadata": {
        "id": "A-ksfR1F_jSd"
      },
      "source": [
        "# Um exemplo prático de List Comprehension\n",
        "\n",
        "### O que faríamos se quisermos ordenar 2 listas \"relacionadas\""
      ]
    },
    {
      "cell_type": "code",
      "execution_count": null,
      "metadata": {
        "colab": {
          "base_uri": "https://localhost:8080/"
        },
        "id": "KicrPtb2_jSi",
        "outputId": "adf7eaf3-2414-4d95-dd6b-116ea2ea9e60"
      },
      "outputs": [
        {
          "output_type": "stream",
          "name": "stdout",
          "text": [
            "['microondas', 'iphone', 'vinho', 'cafeiteira']\n"
          ]
        }
      ],
      "source": [
        "vendas_produtos = [1500, 150, 2100, 1950]\n",
        "produtos = ['vinho', 'cafeiteira', 'microondas', 'iphone']\n",
        "\n",
        "lista_aux = list(zip(vendas_produtos, produtos))\n",
        "lista_aux.sort(reverse=True)\n",
        "produto = [produto for venda, produto in lista_aux]\n",
        "print(produto)"
      ]
    }
  ],
  "metadata": {
    "kernelspec": {
      "display_name": "Python 3",
      "language": "python",
      "name": "python3"
    },
    "language_info": {
      "codemirror_mode": {
        "name": "ipython",
        "version": 3
      },
      "file_extension": ".py",
      "mimetype": "text/x-python",
      "name": "python",
      "nbconvert_exporter": "python",
      "pygments_lexer": "ipython3",
      "version": "3.8.3"
    },
    "colab": {
      "provenance": []
    }
  },
  "nbformat": 4,
  "nbformat_minor": 0
}