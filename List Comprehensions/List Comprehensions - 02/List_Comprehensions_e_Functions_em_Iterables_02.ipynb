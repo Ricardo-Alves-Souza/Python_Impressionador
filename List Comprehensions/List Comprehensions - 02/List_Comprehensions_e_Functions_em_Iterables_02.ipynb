{
  "cells": [
    {
      "cell_type": "markdown",
      "metadata": {
        "id": "A-ksfR1F_jSd"
      },
      "source": [
        "# Um exemplo prático de List Comprehension\n",
        "\n",
        "### O que faríamos se quisermos ordenar 2 listas \"relacionadas\""
      ]
    },
    {
      "cell_type": "code",
      "execution_count": 17,
      "metadata": {},
      "outputs": [
        {
          "name": "stdout",
          "output_type": "stream",
          "text": [
            "['microondas', 'iphone', 'vinho', 'cafeiteira']\n"
          ]
        }
      ],
      "source": [
        "vendas_produtos = [1500, 150, 2100, 1950]\n",
        "produtos = ['vinho', 'cafeiteira', 'microondas', 'iphone']\n",
        "\n",
        "# ZIP junta os valores das duas listas em uma unica lista\n",
        "lista_aux = list(zip(vendas_produtos, produtos))\n",
        "\n",
        "# Sorte(reverse=True) Ordena no maior para o menor\n",
        "lista_aux.sort(reverse=True)\n",
        "\n",
        "produtos = [produto for valor, produto in lista_aux]\n",
        "print(produtos)"
      ]
    }
  ],
  "metadata": {
    "colab": {
      "provenance": []
    },
    "kernelspec": {
      "display_name": "Python 3",
      "language": "python",
      "name": "python3"
    },
    "language_info": {
      "codemirror_mode": {
        "name": "ipython",
        "version": 3
      },
      "file_extension": ".py",
      "mimetype": "text/x-python",
      "name": "python",
      "nbconvert_exporter": "python",
      "pygments_lexer": "ipython3",
      "version": "3.12.0"
    }
  },
  "nbformat": 4,
  "nbformat_minor": 0
}
