{
  "cells": [
    {
      "cell_type": "markdown",
      "metadata": {
        "id": "FT4IxdMD8hLi"
      },
      "source": [
        "# List Comprehension - O que é e qual a importância?\n",
        "\n",
        "### Descrição:\n",
        "\n",
        "- List Comprehension é uma forma de iterar pelos elementas das listas de maneira \"mais direta\", com mais \"cara de Python\"\n",
        "- Em resumo: é como se você fizesse um \"for\" em 1 linha de código\n",
        "\n",
        "### Observação Importante:\n",
        "\n",
        "- Você não precisa de List comprehension para programar, tudo que vamos mostrar aqui dá pra fazer do jeito que já aprendemos\n",
        "- Você não vai sair de uma hora pra outra fazendo tudo list comprehension ao invés de for, porque é realmente mais confuso.\n",
        "- O objetivo aqui é:\n",
        "    1. Saber ler e entender o que tá acontecendo quando ver list comprehension (principal)\n",
        "    2. A medida do tempo você vai se acostumando com isso, vendo mais, usando mais e vai fazer naturalmente quando precisar.\n",
        "    \n",
        "- Mas se você sair desse módulo do curso achando isso tudo muito difícil, fica tranquilo, não usa por hora list comprehension e a medida que você for pegando mais experiência com o Python você lembra que tem esse módulo aqui e pode voltar no futuro\n",
        "\n",
        "### Estrutura:"
      ]
    },
    {
      "cell_type": "raw",
      "metadata": {
        "id": "r8OxAfK_8hLo"
      },
      "source": [
        "lista = [expressão for item in iterable]"
      ]
    },
    {
      "cell_type": "code",
      "execution_count": 1,
      "metadata": {
        "id": "hgokZt_E8hLp"
      },
      "outputs": [],
      "source": [
        "preco_produtos = [100, 150, 300, 5500]\n",
        "produtos = ['vinho', 'cafeiteira', 'microondas', 'iphone']\n",
        "\n",
        "#digamos que o imposto sobre os produtos é de 30%, ou seja, 0.3. Como eu faria para criar uma lista com os\n",
        "#valores de imposto de cada produto?"
      ]
    },
    {
      "cell_type": "markdown",
      "metadata": {
        "id": "gjRLIF-Z8hLq"
      },
      "source": [
        "- Usando um for"
      ]
    },
    {
      "cell_type": "code",
      "execution_count": 12,
      "metadata": {
        "colab": {
          "base_uri": "https://localhost:8080/"
        },
        "id": "TKCvAIEp8hLr",
        "outputId": "9c474c2a-6cf3-40ef-968f-2f54c20883b8"
      },
      "outputs": [
        {
          "name": "stdout",
          "output_type": "stream",
          "text": [
            "[30, 45, 90, 1650]\n"
          ]
        }
      ],
      "source": [
        "valor_imposto = []\n",
        "\n",
        "for i in preco_produtos:\n",
        "    imposto = i * 0.3\n",
        "    valor_imposto.append(int(imposto))\n",
        "\n",
        "print(valor_imposto)"
      ]
    },
    {
      "cell_type": "markdown",
      "metadata": {
        "id": "CxuWhYf38hLr"
      },
      "source": [
        "- Usando list comprehension"
      ]
    },
    {
      "cell_type": "code",
      "execution_count": 18,
      "metadata": {
        "colab": {
          "base_uri": "https://localhost:8080/"
        },
        "id": "cP-G9WxE8hLr",
        "outputId": "6c7b9667-c043-47b7-ec65-ae28bf21af59"
      },
      "outputs": [
        {
          "name": "stdout",
          "output_type": "stream",
          "text": [
            "[30, 45, 90, 1650]\n"
          ]
        }
      ],
      "source": [
        "valor_imposto = [int(preco * 0.3) for preco in preco_produtos]\n",
        "print(valor_imposto)"
      ]
    },
    {
      "cell_type": "markdown",
      "metadata": {
        "id": "L8AKyLR18hLs"
      },
      "source": [
        "- A \"expressão\" na list comprehension pode ser uma function tb"
      ]
    },
    {
      "cell_type": "code",
      "execution_count": 24,
      "metadata": {
        "colab": {
          "base_uri": "https://localhost:8080/"
        },
        "id": "nWdL8QD88hLt",
        "outputId": "0243570c-b03e-4894-b855-a4518b3a17e1"
      },
      "outputs": [
        {
          "name": "stdout",
          "output_type": "stream",
          "text": [
            "[30, 45, 90, 1650]\n"
          ]
        }
      ],
      "source": [
        "def calcular_imposto(preco, imposto):\n",
        "    return int(preco * imposto)\n",
        "\n",
        "valor_imposto = [calcular_imposto(preco, 0.3) for preco in preco_produtos]\n",
        "print(valor_imposto)"
      ]
    },
    {
      "cell_type": "markdown",
      "metadata": {
        "id": "4K9cx3iQ8hLt"
      },
      "source": [
        "### Observação:\n",
        "\n",
        "- Normalmente isso é usado quando queremos fazer uma única ação com os itens de uma lista. Não é obrigatório, mas é comum de encontrar principalmente com programadores mais experientes/preocupados com \"a melhor forma de fazer alguma coisa\"\n",
        "\n",
        "- Cuidado: se a sua lista for MUITO grande, o list comprehension pode acabar sendo difícil de compilar. Nesses casos podemos usar funções, for tradicionais com breaks para interromper ou até bibliotecas como o panda que trabalham bem com muitos dados"
      ]
    }
  ],
  "metadata": {
    "colab": {
      "provenance": []
    },
    "kernelspec": {
      "display_name": "Python 3",
      "language": "python",
      "name": "python3"
    },
    "language_info": {
      "codemirror_mode": {
        "name": "ipython",
        "version": 3
      },
      "file_extension": ".py",
      "mimetype": "text/x-python",
      "name": "python",
      "nbconvert_exporter": "python",
      "pygments_lexer": "ipython3",
      "version": "3.12.0"
    }
  },
  "nbformat": 4,
  "nbformat_minor": 0
}
