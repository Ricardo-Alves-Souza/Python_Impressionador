{
  "cells": [
    {
      "cell_type": "markdown",
      "metadata": {
        "id": "qLtLpoS2BoCo"
      },
      "source": [
        "# Exercícios\n",
        "\n",
        "## 1. Tirando informações de listas e dicionários\n",
        "\n",
        "Digamos que você está analisando as vendas de produtos de uma empresa de varejo.\n",
        "\n",
        "Essa lista tem: (produto, vendas de 2019, vendas de 2020) para cada produto.\n",
        "\n",
        "Crie uma lista com as vendas de 2019."
      ]
    },
    {
      "cell_type": "code",
      "execution_count": null,
      "metadata": {
        "id": "yz3mxk4jBoCv"
      },
      "outputs": [],
      "source": [
        "vendas_produtos = [('iphone', 558147, 951642), ('galaxy', 712350, 244295), ('ipad', 573823, 26964), ('tv', 405252, 787604), ('máquina de café', 718654, 867660), ('kindle', 531580, 78830), ('geladeira', 973139, 710331), ('adega', 892292, 646016), ('notebook dell', 422760, 694913), ('notebook hp', 154753, 539704), ('notebook asus', 887061, 324831), ('microsoft surface', 438508, 667179), ('webcam', 237467, 295633), ('caixa de som', 489705, 725316), ('microfone', 328311, 644622), ('câmera canon', 591120, 994303)]"
      ]
    },
    {
      "cell_type": "code",
      "source": [
        "vendas2019 = [[produto, venda2019] for produto, venda2019, venda2020 in vendas_produtos]\n",
        "print(vendas2019)"
      ],
      "metadata": {
        "colab": {
          "base_uri": "https://localhost:8080/"
        },
        "id": "JqirML2NECbS",
        "outputId": "18945338-172e-4e5f-8b31-d000cfe883aa"
      },
      "execution_count": null,
      "outputs": [
        {
          "output_type": "stream",
          "name": "stdout",
          "text": [
            "[['iphone', 558147], ['galaxy', 712350], ['ipad', 573823], ['tv', 405252], ['máquina de café', 718654], ['kindle', 531580], ['geladeira', 973139], ['adega', 892292], ['notebook dell', 422760], ['notebook hp', 154753], ['notebook asus', 887061], ['microsoft surface', 438508], ['webcam', 237467], ['caixa de som', 489705], ['microfone', 328311], ['câmera canon', 591120]]\n"
          ]
        }
      ]
    },
    {
      "cell_type": "markdown",
      "metadata": {
        "id": "5wRsw65QBoCx"
      },
      "source": [
        "- Agora, qual o maior valor de vendas de 2019?"
      ]
    },
    {
      "cell_type": "code",
      "source": [
        "maior_venda2019 = max([[venda2019, produto] for produto, venda2019, venda2020 in vendas_produtos])\n",
        "print(f'Produto: {maior_venda2019[1]}, quantidade: {maior_venda2019[0]:,.0f}')"
      ],
      "metadata": {
        "colab": {
          "base_uri": "https://localhost:8080/"
        },
        "id": "apNWMq1EEwkA",
        "outputId": "8b34c15a-3f96-41fd-e5aa-720be36c896d"
      },
      "execution_count": null,
      "outputs": [
        {
          "output_type": "stream",
          "name": "stdout",
          "text": [
            "Produto: geladeira, quantidade: 973,139\n"
          ]
        }
      ]
    },
    {
      "cell_type": "markdown",
      "metadata": {
        "id": "Z-vHxFB1BoCy"
      },
      "source": [
        "- E se eu quisesse descobrir o produto que mais vendeu em 2019?\n",
        "Temos 2 formas de fazer, refazendo o list comprehension ou consultando a lista original"
      ]
    },
    {
      "cell_type": "code",
      "execution_count": null,
      "metadata": {
        "id": "XHKH3N0_BoCy"
      },
      "outputs": [],
      "source": []
    }
  ],
  "metadata": {
    "kernelspec": {
      "display_name": "Python 3",
      "language": "python",
      "name": "python3"
    },
    "language_info": {
      "codemirror_mode": {
        "name": "ipython",
        "version": 3
      },
      "file_extension": ".py",
      "mimetype": "text/x-python",
      "name": "python",
      "nbconvert_exporter": "python",
      "pygments_lexer": "ipython3",
      "version": "3.8.3"
    },
    "colab": {
      "provenance": []
    }
  },
  "nbformat": 4,
  "nbformat_minor": 0
}