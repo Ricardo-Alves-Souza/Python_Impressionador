{
  "cells": [
    {
      "cell_type": "markdown",
      "metadata": {
        "id": "qLtLpoS2BoCo"
      },
      "source": [
        "# Exercícios\n",
        "\n",
        "## 1. Tirando informações de listas e dicionários\n",
        "\n",
        "Digamos que você está analisando as vendas de produtos de uma empresa de varejo.\n",
        "\n",
        "Essa lista tem: (produto, vendas de 2019, vendas de 2020) para cada produto.\n",
        "\n",
        "Crie uma lista com as vendas de 2019."
      ]
    },
    {
      "cell_type": "code",
      "execution_count": 1,
      "metadata": {
        "id": "yz3mxk4jBoCv"
      },
      "outputs": [],
      "source": [
        "vendas_produtos = [('iphone', 558147, 951642), ('galaxy', 712350, 244295), ('ipad', 573823, 26964), ('tv', 405252, 787604), ('máquina de café', 718654, 867660), ('kindle', 531580, 78830), ('geladeira', 973139, 710331), ('adega', 892292, 646016), ('notebook dell', 422760, 694913), ('notebook hp', 154753, 539704), ('notebook asus', 887061, 324831), ('microsoft surface', 438508, 667179), ('webcam', 237467, 295633), ('caixa de som', 489705, 725316), ('microfone', 328311, 644622), ('câmera canon', 591120, 994303)]"
      ]
    },
    {
      "cell_type": "code",
      "execution_count": 5,
      "metadata": {
        "colab": {
          "base_uri": "https://localhost:8080/"
        },
        "id": "JqirML2NECbS",
        "outputId": "18945338-172e-4e5f-8b31-d000cfe883aa"
      },
      "outputs": [
        {
          "name": "stdout",
          "output_type": "stream",
          "text": [
            "[558147, 712350, 573823, 405252, 718654, 531580, 973139, 892292, 422760, 154753, 887061, 438508, 237467, 489705, 328311, 591120]\n"
          ]
        }
      ],
      "source": [
        "lista_vendas2019 = [vendas2019 for produto, vendas2019, vendas2020 in vendas_produtos]\n",
        "print(lista_vendas2019)"
      ]
    },
    {
      "cell_type": "markdown",
      "metadata": {
        "id": "5wRsw65QBoCx"
      },
      "source": [
        "- Agora, qual o maior valor de vendas de 2019?"
      ]
    },
    {
      "cell_type": "code",
      "execution_count": 10,
      "metadata": {
        "colab": {
          "base_uri": "https://localhost:8080/"
        },
        "id": "apNWMq1EEwkA",
        "outputId": "8b34c15a-3f96-41fd-e5aa-720be36c896d"
      },
      "outputs": [
        {
          "name": "stdout",
          "output_type": "stream",
          "text": [
            "973139\n"
          ]
        }
      ],
      "source": [
        "print(max(lista_vendas2019))"
      ]
    },
    {
      "cell_type": "markdown",
      "metadata": {
        "id": "Z-vHxFB1BoCy"
      },
      "source": [
        "- E se eu quisesse descobrir o produto que mais vendeu em 2019?\n",
        "Temos 2 formas de fazer, refazendo o list comprehension ou consultando a lista original"
      ]
    },
    {
      "cell_type": "code",
      "execution_count": 16,
      "metadata": {
        "id": "XHKH3N0_BoCy"
      },
      "outputs": [
        {
          "name": "stdout",
          "output_type": "stream",
          "text": [
            "(973139, 'geladeira')\n"
          ]
        }
      ],
      "source": [
        "lista_vendas2019 = [(vendas2019, produto) for produto, vendas2019, vendas2020 in vendas_produtos]\n",
        "print(max(lista_vendas2019))"
      ]
    }
  ],
  "metadata": {
    "colab": {
      "provenance": []
    },
    "kernelspec": {
      "display_name": "Python 3",
      "language": "python",
      "name": "python3"
    },
    "language_info": {
      "codemirror_mode": {
        "name": "ipython",
        "version": 3
      },
      "file_extension": ".py",
      "mimetype": "text/x-python",
      "name": "python",
      "nbconvert_exporter": "python",
      "pygments_lexer": "ipython3",
      "version": "3.12.0"
    }
  },
  "nbformat": 4,
  "nbformat_minor": 0
}
