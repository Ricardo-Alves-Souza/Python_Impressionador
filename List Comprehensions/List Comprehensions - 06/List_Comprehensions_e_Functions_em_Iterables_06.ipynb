{
  "cells": [
    {
      "cell_type": "markdown",
      "metadata": {
        "id": "IdUcbQ9BQcRa"
      },
      "source": [
        "# List Comprehension com if para escolher o resultado final\n",
        "\n",
        "### Estrutura:"
      ]
    },
    {
      "cell_type": "raw",
      "metadata": {
        "id": "JfE5FKeFQcRf"
      },
      "source": [
        "lista = [item if condicao else outro_resultado for item in iterable]"
      ]
    },
    {
      "cell_type": "markdown",
      "metadata": {
        "id": "SyYfKAhDQcRg"
      },
      "source": [
        "- Digamos que eu esteja analisando os vendedores de uma loja e queira criar uma lista para enviar para o RH com o bônus de cada vendedor.\n",
        "- O bônus é dado por 10% do valor de vendas dele, caso ele tenha batido a meta"
      ]
    },
    {
      "cell_type": "code",
      "execution_count": null,
      "metadata": {
        "id": "DGd66Q6JQcRh"
      },
      "outputs": [],
      "source": [
        "vendedores_dic = {'Maria': 1200, 'José': 300, 'Antônio': 800, 'João': 1500, 'Francisco': 1900, 'Ana': 2750, 'Luiz': 400, 'Paulo': 20, 'Carlos': 23, 'Manoel': 70, 'Pedro': 90, 'Francisca': 80, 'Marcos': 1100, 'Raimundo': 999, 'Sebastião': 900, 'Antônia': 880, 'Marcelo': 870, 'Jorge': 50, 'Márcia': 1111, 'Geraldo': 120, 'Adriana': 300, 'Sandra': 450, 'Luis': 800}\n",
        "meta = 1000"
      ]
    },
    {
      "cell_type": "markdown",
      "metadata": {
        "id": "KIP5ZzLWQcRi"
      },
      "source": [
        "- Fazendo por for"
      ]
    },
    {
      "cell_type": "code",
      "execution_count": null,
      "metadata": {
        "colab": {
          "base_uri": "https://localhost:8080/"
        },
        "id": "bd3kqSp3QcRj",
        "outputId": "0913df29-8c91-4af8-cbfb-9f852cc6b5f9"
      },
      "outputs": [
        {
          "output_type": "stream",
          "name": "stdout",
          "text": [
            "[120.0, 0, 0, 150.0, 190.0, 275.0, 0, 0, 0, 0, 0, 0, 110.0, 0, 0, 0, 0, 0, 111.10000000000001, 0, 0, 0, 0]\n"
          ]
        }
      ],
      "source": [
        "bonus = []\n",
        "\n",
        "for nome, venda in vendedores_dic.items():\n",
        "  if venda >= meta:\n",
        "    bonus.append(venda * 0.1)\n",
        "  else:\n",
        "    bonus.append(0)\n",
        "\n",
        "print(bonus)"
      ]
    },
    {
      "cell_type": "markdown",
      "metadata": {
        "id": "xRc49BT-QcRj"
      },
      "source": [
        "- Fazendo por List Comprehension"
      ]
    },
    {
      "cell_type": "code",
      "source": [
        "bonus = [venda * 0.1 if venda >= meta else 0 for nome, venda in vendedores_dic.items()]\n",
        "\n",
        "print(bonus)"
      ],
      "metadata": {
        "colab": {
          "base_uri": "https://localhost:8080/"
        },
        "id": "r8Z8DTDFRnC2",
        "outputId": "1efee632-a11b-4ac6-dbdd-e8f681328cab"
      },
      "execution_count": null,
      "outputs": [
        {
          "output_type": "stream",
          "name": "stdout",
          "text": [
            "[120.0, 0, 0, 150.0, 190.0, 275.0, 0, 0, 0, 0, 0, 0, 110.0, 0, 0, 0, 0, 0, 111.10000000000001, 0, 0, 0, 0]\n"
          ]
        }
      ]
    }
  ],
  "metadata": {
    "kernelspec": {
      "display_name": "Python 3",
      "language": "python",
      "name": "python3"
    },
    "language_info": {
      "codemirror_mode": {
        "name": "ipython",
        "version": 3
      },
      "file_extension": ".py",
      "mimetype": "text/x-python",
      "name": "python",
      "nbconvert_exporter": "python",
      "pygments_lexer": "ipython3",
      "version": "3.8.3"
    },
    "colab": {
      "provenance": []
    }
  },
  "nbformat": 4,
  "nbformat_minor": 0
}