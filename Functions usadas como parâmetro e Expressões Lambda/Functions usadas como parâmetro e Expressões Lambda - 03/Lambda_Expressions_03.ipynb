{
  "cells": [
    {
      "cell_type": "markdown",
      "metadata": {
        "id": "AMj4HcjSyd_7"
      },
      "source": [
        "# Lambda Expressions para gerar funções\n",
        "\n",
        "### Descrição\n",
        "\n",
        "- Uma das aplicações de lambda expressions, além da vista na aula passada, é criar um \"gerador de funções\". Nesse caso, usaremos a lambda expressions dentro da definição de uma outra função\n",
        "\n",
        "### Exemplo:\n",
        "\n",
        "1. Vamos criar uma função que me permita calcular o valor acrescido do imposto de diferentes categorias (produto, serviço, royalties, etc.)"
      ]
    },
    {
      "cell_type": "code",
      "execution_count": null,
      "metadata": {
        "id": "k7_cjm4ryeAE"
      },
      "outputs": [],
      "source": [
        "def calcular_importo(imposto):\n",
        "  return lambda valor : valor * (1 + imposto)"
      ]
    },
    {
      "cell_type": "markdown",
      "metadata": {
        "id": "T2ZP3O5QyeAF"
      },
      "source": [
        "- Agora vamos definir as funções que calculam o imposto das 3 categorias (produto, serviço, royalties)"
      ]
    },
    {
      "cell_type": "code",
      "execution_count": null,
      "metadata": {
        "id": "PDzJCfTByeAG"
      },
      "outputs": [],
      "source": [
        "calcular_preco_produto = calcular_importo(0.1)\n",
        "calcular_preco_servico = calcular_importo(0.15)\n",
        "calcular_preco_royalties = calcular_importo(0.25)"
      ]
    },
    {
      "cell_type": "markdown",
      "metadata": {
        "id": "Cb8Us6MkyeAG"
      },
      "source": [
        "- Agora vamos aplicar com um valor de nota fiscal de 100 para ver o resultado"
      ]
    },
    {
      "cell_type": "code",
      "execution_count": null,
      "metadata": {
        "colab": {
          "base_uri": "https://localhost:8080/"
        },
        "id": "v8JYkVEXyeAH",
        "outputId": "321df437-0c35-4a00-e2d0-b3e9cd184d0a"
      },
      "outputs": [
        {
          "output_type": "stream",
          "name": "stdout",
          "text": [
            "110\n",
            "114\n",
            "125\n"
          ]
        }
      ],
      "source": [
        "print(int(calcular_preco_produto(100)))\n",
        "print(int(calcular_preco_servico(100)))\n",
        "print(int(calcular_preco_royalties(100)))"
      ]
    },
    {
      "cell_type": "markdown",
      "metadata": {
        "id": "DZBVWfUmyeAH"
      },
      "source": [
        "### É menos usado do que a forma anterior que vimos, mas pode ser útil caso queira criar funções que possam ser adaptadas como vimos aqui"
      ]
    }
  ],
  "metadata": {
    "kernelspec": {
      "display_name": "Python 3",
      "language": "python",
      "name": "python3"
    },
    "language_info": {
      "codemirror_mode": {
        "name": "ipython",
        "version": 3
      },
      "file_extension": ".py",
      "mimetype": "text/x-python",
      "name": "python",
      "nbconvert_exporter": "python",
      "pygments_lexer": "ipython3",
      "version": "3.8.3"
    },
    "colab": {
      "provenance": []
    }
  },
  "nbformat": 4,
  "nbformat_minor": 0
}