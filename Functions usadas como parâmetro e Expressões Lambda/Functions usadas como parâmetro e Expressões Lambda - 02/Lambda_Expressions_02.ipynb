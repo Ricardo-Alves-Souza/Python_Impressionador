{
  "cells": [
    {
      "cell_type": "markdown",
      "metadata": {
        "id": "ExyZNw73rrc8"
      },
      "source": [
        "# Principal Aplicação de Lambda Expressions\n",
        "\n",
        "### Usar lambda como argumento de alguma outra função, como map e filter"
      ]
    },
    {
      "cell_type": "code",
      "execution_count": null,
      "metadata": {
        "id": "tRMs8cqrrrdA"
      },
      "outputs": [],
      "source": [
        "preco_tecnologia = {'notebook asus': 2450, 'iphone': 4500, 'samsung galaxy': 3000, 'tv samsung': 1000, 'ps5': 3000, 'tablet': 1000, 'notebook dell': 3000, 'ipad': 3000, 'tv philco': 800, 'notebook hp': 1700}"
      ]
    },
    {
      "cell_type": "markdown",
      "metadata": {
        "id": "VRJSAvh5rrdC"
      },
      "source": [
        "### map()\n",
        "- Queremos saber o preço de cada produto adicionando o valor do imposto de 30% sobre o valor do produto"
      ]
    },
    {
      "cell_type": "code",
      "execution_count": null,
      "metadata": {
        "id": "oQv77pE2rrdC"
      },
      "outputs": [],
      "source": [
        "#Fazendo por function\n",
        "def imposto(valor):\n",
        "  return valor * 1.3\n",
        "\n",
        "preco = list(map(imposto, preco_tecnologia.values()))\n",
        "print(preco)"
      ]
    },
    {
      "cell_type": "code",
      "source": [
        "preco = list(map(lambda valor : valor * 1.3, preco_tecnologia.values()))\n",
        "print(preco)"
      ],
      "metadata": {
        "colab": {
          "base_uri": "https://localhost:8080/"
        },
        "id": "7-uqnMlnJnHY",
        "outputId": "a0e47fba-9d70-4260-cbfb-98ac8201a357"
      },
      "execution_count": null,
      "outputs": [
        {
          "output_type": "stream",
          "name": "stdout",
          "text": [
            "[3185.0, 5850.0, 3900.0, 1300.0, 3900.0, 1300.0, 3900.0, 3900.0, 1040.0, 2210.0]\n"
          ]
        }
      ]
    },
    {
      "cell_type": "code",
      "execution_count": null,
      "metadata": {
        "colab": {
          "base_uri": "https://localhost:8080/"
        },
        "id": "DPEgErLWrrdD",
        "outputId": "0db80548-c8f4-4cbf-a200-84c4e17f0f96"
      },
      "outputs": [
        {
          "output_type": "stream",
          "name": "stdout",
          "text": [
            "[3185.0, 5850.0, 3900.0, 1300.0, 3900.0, 1300.0, 3900.0, 3900.0, 1040.0, 2210.0]\n"
          ]
        }
      ],
      "source": [
        "#fazendo por lambda\n",
        "preco_l = list(map(lambda valor: valor * 1.3, preco_tecnologia.values()))\n",
        "\n",
        "print(preco_l)"
      ]
    },
    {
      "cell_type": "markdown",
      "metadata": {
        "id": "VdNPXxZfrrdD"
      },
      "source": [
        "### filter()\n",
        "- Queremos apenas os produtos que custam acima de 2000"
      ]
    },
    {
      "cell_type": "raw",
      "metadata": {
        "id": "r0it-MyCrrdE"
      },
      "source": [
        "filter(função, iterable) -> retorna como resposta todos os itens do iterable onde a função é True"
      ]
    },
    {
      "cell_type": "code",
      "source": [
        "retorno = dict(list(filter(lambda valor : valor[1] > 2000, preco_tecnologia.items())))\n",
        "p"
      ],
      "metadata": {
        "id": "ZGOJS0LZKaUA"
      },
      "execution_count": null,
      "outputs": []
    },
    {
      "cell_type": "code",
      "execution_count": null,
      "metadata": {
        "id": "_ghjJsdarrdE"
      },
      "outputs": [],
      "source": [
        "#fazendo por function\n",
        "#print(preco_tecnologia.items())\n"
      ]
    },
    {
      "cell_type": "code",
      "execution_count": null,
      "metadata": {
        "colab": {
          "base_uri": "https://localhost:8080/"
        },
        "id": "d0PLLSROrrdF",
        "outputId": "e38f96ae-1199-4056-bc5a-5520f899865b"
      },
      "outputs": [
        {
          "output_type": "stream",
          "name": "stdout",
          "text": [
            "{'notebook asus': 2450, 'iphone': 4500, 'samsung galaxy': 3000, 'ps5': 3000, 'notebook dell': 3000, 'ipad': 3000}\n"
          ]
        }
      ],
      "source": [
        "#fazendo por lambda\n",
        "\n",
        "retorno = dict(list(filter(lambda index : index[1] > 2000,  preco_tecnologia.items())))\n",
        "\n",
        "print(retorno)"
      ]
    }
  ],
  "metadata": {
    "kernelspec": {
      "display_name": "Python 3",
      "language": "python",
      "name": "python3"
    },
    "language_info": {
      "codemirror_mode": {
        "name": "ipython",
        "version": 3
      },
      "file_extension": ".py",
      "mimetype": "text/x-python",
      "name": "python",
      "nbconvert_exporter": "python",
      "pygments_lexer": "ipython3",
      "version": "3.8.3"
    },
    "colab": {
      "provenance": []
    }
  },
  "nbformat": 4,
  "nbformat_minor": 0
}