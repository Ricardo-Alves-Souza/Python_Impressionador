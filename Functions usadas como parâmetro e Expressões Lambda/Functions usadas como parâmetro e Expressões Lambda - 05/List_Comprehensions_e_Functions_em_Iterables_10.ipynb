{
  "cells": [
    {
      "cell_type": "markdown",
      "metadata": {
        "id": "lPD7A-f0ccmo"
      },
      "source": [
        "# sort (ou sorted) com function\n",
        "\n",
        "### Descrição:\n",
        "\n",
        "Até agora no programa, usamos várias vezes o .sort() para ordenar listas\n",
        "\n",
        "Mas o método sort tem um parâmetro que nunca usamos e que agora sabemos usar."
      ]
    },
    {
      "cell_type": "code",
      "execution_count": null,
      "metadata": {
        "colab": {
          "base_uri": "https://localhost:8080/"
        },
        "id": "gP_XaUTPccmt",
        "outputId": "edfa437d-e96d-480c-9dc7-e9dccc44f9ad"
      },
      "outputs": [
        {
          "output_type": "stream",
          "name": "stdout",
          "text": [
            "['IPad', 'IPhone 11', 'IPhone x', 'airpods', 'apple tv', 'apple watch', 'mac', 'mac book']\n"
          ]
        }
      ],
      "source": [
        "produtos = ['apple tv', 'mac', 'IPhone x', 'IPhone 11', 'IPad', 'apple watch', 'mac book', 'airpods']\n",
        "produtos.sort()\n",
        "print(produtos)"
      ]
    },
    {
      "cell_type": "markdown",
      "metadata": {
        "id": "Jhn6EW3sccmv"
      },
      "source": [
        "- Como faríamos para ordenar corretamente?"
      ]
    },
    {
      "cell_type": "code",
      "execution_count": null,
      "metadata": {
        "colab": {
          "base_uri": "https://localhost:8080/"
        },
        "id": "_jw5Y_vVccmv",
        "outputId": "04967874-02da-4e49-e5e5-5a85ad00a598"
      },
      "outputs": [
        {
          "output_type": "stream",
          "name": "stdout",
          "text": [
            "['airpods', 'apple tv', 'apple watch', 'IPad', 'IPhone 11', 'IPhone x', 'mac', 'mac book']\n"
          ]
        }
      ],
      "source": [
        "produtos.sort(key= str.casefold)\n",
        "print(produtos)"
      ]
    },
    {
      "cell_type": "markdown",
      "metadata": {
        "id": "n-o0HEDKccmw"
      },
      "source": [
        "### Outro exemplo: como ordenar um dicionário de acordo com o valor"
      ]
    },
    {
      "cell_type": "code",
      "execution_count": null,
      "metadata": {
        "id": "iXqjZk7Dccmw"
      },
      "outputs": [],
      "source": [
        "vendas_produtos = {'vinho': 100, 'cafeiteira': 150, 'microondas': 300, 'iphone': 5500}"
      ]
    },
    {
      "cell_type": "markdown",
      "metadata": {
        "id": "Nr6sV3COccmx"
      },
      "source": [
        "- Queremos listar da maior quantidade de vendas para a menor, para enviar como report para o diretor, por exemplo"
      ]
    },
    {
      "cell_type": "code",
      "source": [
        "lista_vendas = list(vendas_produtos.items())\n",
        "\n",
        "segundo_valor = lambda valor : valor[1]\n",
        "lista_vendas.sort(key=segundo_valor, reverse=True)\n",
        "\n",
        "print(dict(lista_vendas))"
      ],
      "metadata": {
        "colab": {
          "base_uri": "https://localhost:8080/"
        },
        "id": "ptL9ii_kGFjq",
        "outputId": "16f36a6e-326c-4564-dbc4-7bfe66c4ac48"
      },
      "execution_count": null,
      "outputs": [
        {
          "output_type": "stream",
          "name": "stdout",
          "text": [
            "{'iphone': 5500, 'microondas': 300, 'cafeiteira': 150, 'vinho': 100}\n"
          ]
        }
      ]
    }
  ],
  "metadata": {
    "kernelspec": {
      "display_name": "Python 3",
      "language": "python",
      "name": "python3"
    },
    "language_info": {
      "codemirror_mode": {
        "name": "ipython",
        "version": 3
      },
      "file_extension": ".py",
      "mimetype": "text/x-python",
      "name": "python",
      "nbconvert_exporter": "python",
      "pygments_lexer": "ipython3",
      "version": "3.8.3"
    },
    "colab": {
      "provenance": []
    }
  },
  "nbformat": 4,
  "nbformat_minor": 0
}