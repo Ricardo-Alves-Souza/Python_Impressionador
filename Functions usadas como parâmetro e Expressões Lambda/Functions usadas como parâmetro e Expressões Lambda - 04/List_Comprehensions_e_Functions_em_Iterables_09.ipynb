{
  "cells": [
    {
      "cell_type": "markdown",
      "metadata": {
        "id": "xdn4qy3yaRFi"
      },
      "source": [
        "# Function em iterables\n",
        "\n",
        "### Segue a mesma lógica de list comprehension, mas é mais simples\n",
        "\n",
        "Basicamente alguns métodos e funções que já existem no Python podem rodar uma function para cada item, da mesma forma que fizemos com list comprehension.\n",
        "\n",
        "Isso pode ajudar a gente a resolver alguns desafios de forma mais simples\n",
        "\n",
        "Uma função que permite que a gente faça isso é a map function\n",
        "\n",
        "### map function"
      ]
    },
    {
      "cell_type": "raw",
      "metadata": {
        "id": "w_e2Ow1taRFn"
      },
      "source": [
        "lista = list(map(função, iterable_original))"
      ]
    },
    {
      "cell_type": "markdown",
      "metadata": {
        "id": "dvWeSF7zaRFo"
      },
      "source": [
        "- Exemplo: digamos que eu tenha uma function que corrige um código de um produto (semelhante ao que fizemos na seção de function aqui do curso)"
      ]
    },
    {
      "cell_type": "code",
      "execution_count": null,
      "metadata": {
        "id": "S5TZDz97aRFp"
      },
      "outputs": [],
      "source": [
        "def padronizar_texto(texto):\n",
        "    texto = texto.casefold()\n",
        "    texto = texto.replace(\"  \", \" \")\n",
        "    texto = texto.strip()\n",
        "    return texto"
      ]
    },
    {
      "cell_type": "markdown",
      "metadata": {
        "id": "EFLHgQ3taRFq"
      },
      "source": [
        "- Agora queremos padronizar uma lista de códigos:"
      ]
    },
    {
      "cell_type": "code",
      "execution_count": null,
      "metadata": {
        "id": "DHgHtoRDaRFq"
      },
      "outputs": [],
      "source": [
        "produtos = [' ABC12 ', 'abc34', 'AbC37', 'beb12', ' BSA151', 'BEB23']"
      ]
    },
    {
      "cell_type": "code",
      "source": [
        "produtos = list(map(padronizar_texto, produtos))\n",
        "\n",
        "print(produtos)"
      ],
      "metadata": {
        "colab": {
          "base_uri": "https://localhost:8080/"
        },
        "id": "ztuPUD3tIGNb",
        "outputId": "abe2aba3-7da4-4f25-b467-7702db3b7ad6"
      },
      "execution_count": null,
      "outputs": [
        {
          "output_type": "stream",
          "name": "stdout",
          "text": [
            "['abc12', 'abc34', 'abc37', 'beb12', 'bsa151', 'beb23']\n"
          ]
        }
      ]
    },
    {
      "cell_type": "markdown",
      "metadata": {
        "id": "x4J_M_rTaRFr"
      },
      "source": [
        "- Usando o for, temos que percorrer a lista toda e para cada item executar a function"
      ]
    },
    {
      "cell_type": "code",
      "execution_count": null,
      "metadata": {
        "colab": {
          "base_uri": "https://localhost:8080/"
        },
        "id": "8nlScSjBaRFs",
        "outputId": "d1474f42-d4ed-42d8-915b-00b82d85c7c1"
      },
      "outputs": [
        {
          "output_type": "stream",
          "name": "stdout",
          "text": [
            "['abc12', 'abc34', 'abc37', 'beb12', 'bsa151', 'beb23']\n"
          ]
        }
      ],
      "source": [
        "for i, produto in enumerate(produtos):\n",
        "  produtos[i] = padronizar_texto(produto)\n",
        "print(produtos)"
      ]
    },
    {
      "cell_type": "markdown",
      "metadata": {
        "id": "2LSSE5Q2aRFt"
      },
      "source": [
        "- Usando o map, apenas chamamos a função e ela já faz isso para a gente"
      ]
    },
    {
      "cell_type": "code",
      "execution_count": null,
      "metadata": {
        "colab": {
          "base_uri": "https://localhost:8080/"
        },
        "id": "EULlgyrMaRFu",
        "outputId": "b448234e-5cf3-4abe-adde-a9e3110f9ff2"
      },
      "outputs": [
        {
          "output_type": "stream",
          "name": "stdout",
          "text": [
            "['abc12', 'abc34', 'abc37', 'beb12', 'bsa151', 'beb23']\n"
          ]
        }
      ],
      "source": [
        "produtos = list(map(padronizar_texto, produtos))\n",
        "\n",
        "print(produtos)"
      ]
    },
    {
      "cell_type": "markdown",
      "metadata": {
        "id": "-g2QhwtqaRFu"
      },
      "source": [
        "### Olhando assim pode não parecer tão útil, mas a lógica de executar uma função para cada item é bem útil para outras funções que já existem no Python. Veremos na próxima aula"
      ]
    }
  ],
  "metadata": {
    "kernelspec": {
      "display_name": "Python 3",
      "language": "python",
      "name": "python3"
    },
    "language_info": {
      "codemirror_mode": {
        "name": "ipython",
        "version": 3
      },
      "file_extension": ".py",
      "mimetype": "text/x-python",
      "name": "python",
      "nbconvert_exporter": "python",
      "pygments_lexer": "ipython3",
      "version": "3.8.3"
    },
    "colab": {
      "provenance": []
    }
  },
  "nbformat": 4,
  "nbformat_minor": 0
}