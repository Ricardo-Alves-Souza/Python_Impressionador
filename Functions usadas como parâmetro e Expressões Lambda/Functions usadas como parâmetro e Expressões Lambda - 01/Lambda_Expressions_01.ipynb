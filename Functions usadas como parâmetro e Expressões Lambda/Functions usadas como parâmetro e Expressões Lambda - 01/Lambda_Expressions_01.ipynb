{
  "cells": [
    {
      "cell_type": "markdown",
      "metadata": {
        "id": "5p7LLWfWp2T0"
      },
      "source": [
        "# Lambda Expressions\n",
        "\n",
        "### Objetivo:\n",
        "\n",
        "- As lambdas expressions são funções anônimas (sem nome mesmo) que tem 1 linha de código e são atribuidas a uma variável, como se a variável virasse uma função.\n",
        "- Elas normalmente são usadas para fazer uma única ação, mas em Python usamos principalmente dentro de métodos como argumento, para não precisarmos criar uma função só para isso (vamos ver isso na aula que vem)\n",
        "- Outra aplicação delas está em criar um \"gerador de funções\" (vamos ver na 3ª Aula dessa Seção)\n",
        "\n",
        "### Obs\n",
        "\n",
        "- Não é \"obrigatório\" usar lambda expression, até porque praticamente tudo o que você faz com elas você consegue fazer com functions normais. Mas, é importante saber entender quando encontrar e saber usar a medida que você for se acostumando e vendo necessidade\n",
        "\n",
        "### Estrutura:"
      ]
    },
    {
      "cell_type": "raw",
      "metadata": {
        "id": "BU3cmxAap2T5"
      },
      "source": [
        "minha_funcao = lambda parametro: expressão"
      ]
    },
    {
      "cell_type": "markdown",
      "metadata": {
        "id": "fJ3paPy4p2T6"
      },
      "source": [
        "- Exemplo mais simples"
      ]
    },
    {
      "cell_type": "code",
      "execution_count": null,
      "metadata": {
        "id": "kl07ACb_p2T6",
        "colab": {
          "base_uri": "https://localhost:8080/"
        },
        "outputId": "968d469c-6f94-4bab-a061-f11422a2ac46"
      },
      "outputs": [
        {
          "output_type": "execute_result",
          "data": {
            "text/plain": [
              "130.0"
            ]
          },
          "metadata": {},
          "execution_count": 1
        }
      ],
      "source": [
        "calcular = lambda valor : valor * 1.3\n",
        "\n",
        "calcular(100)"
      ]
    },
    {
      "cell_type": "markdown",
      "metadata": {
        "id": "Imq7Z30Bp2T7"
      },
      "source": [
        "- Exemplo útil: Vamos usar lambda expressions para criar uma função que calcula o preço dos produtos acrescido do imposto"
      ]
    },
    {
      "cell_type": "code",
      "execution_count": null,
      "metadata": {
        "colab": {
          "base_uri": "https://localhost:8080/"
        },
        "id": "D1Apm0yTp2T7",
        "outputId": "1feeebca-1f9f-4632-eba3-41b77c786388"
      },
      "outputs": [
        {
          "output_type": "execute_result",
          "data": {
            "text/plain": [
              "130.0"
            ]
          },
          "metadata": {},
          "execution_count": 2
        }
      ],
      "source": [
        "imposto = 0.3\n",
        "\n",
        "calcular = lambda valor : valor + (valor * imposto)\n",
        "\n",
        "calcular(100)\n"
      ]
    }
  ],
  "metadata": {
    "kernelspec": {
      "display_name": "Python 3",
      "language": "python",
      "name": "python3"
    },
    "language_info": {
      "codemirror_mode": {
        "name": "ipython",
        "version": 3
      },
      "file_extension": ".py",
      "mimetype": "text/x-python",
      "name": "python",
      "nbconvert_exporter": "python",
      "pygments_lexer": "ipython3",
      "version": "3.8.3"
    },
    "colab": {
      "provenance": []
    }
  },
  "nbformat": 4,
  "nbformat_minor": 0
}